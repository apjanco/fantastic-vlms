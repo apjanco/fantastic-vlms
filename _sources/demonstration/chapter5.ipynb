{
 "cells": [
  {
   "cell_type": "markdown",
   "id": "1a170979",
   "metadata": {},
   "source": [
    "# Outputs\n",
    "- Make a searchable static website or a spreadsheet from the output \n",
    "- Document SVG (readable copy of the image)\n"
   ]
  },
  {
   "cell_type": "code",
   "execution_count": null,
   "id": "c92e537d",
   "metadata": {},
   "outputs": [],
   "source": []
  }
 ],
 "metadata": {
  "language_info": {
   "name": "python"
  }
 },
 "nbformat": 4,
 "nbformat_minor": 5
}
