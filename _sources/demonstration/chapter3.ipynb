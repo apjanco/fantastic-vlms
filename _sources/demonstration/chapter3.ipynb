{
 "cells": [
  {
   "cell_type": "markdown",
   "id": "3b49a7f5",
   "metadata": {},
   "source": [
    "# Processing Workflows\n",
    "\n",
    "While the descriptions above are nice, they're not research data or archival metadata.\n",
    "\n",
    "This next section details a workflow that will process the materials into a structured format that can be used for research or library systems. This is an example that can be adapted to your specific needs.\n",
    "\n",
    "[![](https://colab.research.google.com/assets/colab-badge.svg)](https://colab.research.google.com/drive/1-wksvuqBUv8qq2mLJ8EbbluStjyvXIp7#scrollTo=OsonjvCPSjIr)  "
   ]
  },
  {
   "cell_type": "code",
   "execution_count": null,
   "id": "2c7e0080",
   "metadata": {},
   "outputs": [],
   "source": []
  },
  {
   "cell_type": "markdown",
   "id": "2c7ff4f2",
   "metadata": {},
   "source": []
  },
  {
   "cell_type": "markdown",
   "id": "c5753382",
   "metadata": {},
   "source": []
  }
 ],
 "metadata": {
  "language_info": {
   "name": "python"
  }
 },
 "nbformat": 4,
 "nbformat_minor": 5
}
