{
 "cells": [
  {
   "cell_type": "markdown",
   "id": "3b49a7f5",
   "metadata": {},
   "source": [
    "# Image and Metadata Processing Workflows\n",
    "\n"
   ]
  },
  {
   "cell_type": "code",
   "execution_count": null,
   "id": "2c7e0080",
   "metadata": {},
   "outputs": [],
   "source": []
  },
  {
   "cell_type": "markdown",
   "id": "2c7ff4f2",
   "metadata": {},
   "source": [
    "- Evaluation. Testing and evaluating the quality of generated data. Metadata standards, schema, interoperability\n",
    "Remove ‘hiccups’ \n",
    "Remove code tags (three backs)\n",
    "Remove “chatter: ” 'Of course. Here is a detailed description of the image provided.\\n'\n",
    "\n",
    "\n",
    "Outputs:\n",
    "- Make a searchable static website or a spreadsheet from the output \n",
    "- Document SVG (readable copy of the image)\n"
   ]
  }
 ],
 "metadata": {
  "language_info": {
   "name": "python"
  }
 },
 "nbformat": 4,
 "nbformat_minor": 5
}
